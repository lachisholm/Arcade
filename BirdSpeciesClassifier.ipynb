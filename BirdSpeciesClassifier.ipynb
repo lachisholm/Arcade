{
  "nbformat": 4,
  "nbformat_minor": 0,
  "metadata": {
    "colab": {
      "provenance": [],
      "include_colab_link": true
    },
    "kernelspec": {
      "name": "python3",
      "display_name": "Python 3"
    },
    "language_info": {
      "name": "python"
    }
  },
  "cells": [
    {
      "cell_type": "markdown",
      "metadata": {
        "id": "view-in-github",
        "colab_type": "text"
      },
      "source": [
        "<a href=\"https://colab.research.google.com/github/lachisholm/Arcade/blob/main/BirdSpeciesClassifier.ipynb\" target=\"_parent\"><img src=\"https://colab.research.google.com/assets/colab-badge.svg\" alt=\"Open In Colab\"/></a>"
      ]
    },
    {
      "cell_type": "markdown",
      "source": [
        "# **Install Tensorflow**"
      ],
      "metadata": {
        "id": "CorMKrTJQv-L"
      }
    },
    {
      "cell_type": "code",
      "source": [
        "!pip install tensorflow"
      ],
      "metadata": {
        "id": "wH5K76cQfn8x",
        "colab": {
          "base_uri": "https://localhost:8080/"
        },
        "outputId": "037651c3-f5ab-46af-cb9c-b98a649e9a28"
      },
      "execution_count": null,
      "outputs": [
        {
          "output_type": "stream",
          "name": "stdout",
          "text": [
            "Requirement already satisfied: tensorflow in /usr/local/lib/python3.10/dist-packages (2.17.1)\n",
            "Requirement already satisfied: absl-py>=1.0.0 in /usr/local/lib/python3.10/dist-packages (from tensorflow) (1.4.0)\n",
            "Requirement already satisfied: astunparse>=1.6.0 in /usr/local/lib/python3.10/dist-packages (from tensorflow) (1.6.3)\n",
            "Requirement already satisfied: flatbuffers>=24.3.25 in /usr/local/lib/python3.10/dist-packages (from tensorflow) (24.3.25)\n",
            "Requirement already satisfied: gast!=0.5.0,!=0.5.1,!=0.5.2,>=0.2.1 in /usr/local/lib/python3.10/dist-packages (from tensorflow) (0.6.0)\n",
            "Requirement already satisfied: google-pasta>=0.1.1 in /usr/local/lib/python3.10/dist-packages (from tensorflow) (0.2.0)\n",
            "Requirement already satisfied: h5py>=3.10.0 in /usr/local/lib/python3.10/dist-packages (from tensorflow) (3.12.1)\n",
            "Requirement already satisfied: libclang>=13.0.0 in /usr/local/lib/python3.10/dist-packages (from tensorflow) (18.1.1)\n",
            "Requirement already satisfied: ml-dtypes<0.5.0,>=0.3.1 in /usr/local/lib/python3.10/dist-packages (from tensorflow) (0.4.1)\n",
            "Requirement already satisfied: opt-einsum>=2.3.2 in /usr/local/lib/python3.10/dist-packages (from tensorflow) (3.4.0)\n",
            "Requirement already satisfied: packaging in /usr/local/lib/python3.10/dist-packages (from tensorflow) (24.2)\n",
            "Requirement already satisfied: protobuf!=4.21.0,!=4.21.1,!=4.21.2,!=4.21.3,!=4.21.4,!=4.21.5,<5.0.0dev,>=3.20.3 in /usr/local/lib/python3.10/dist-packages (from tensorflow) (4.25.5)\n",
            "Requirement already satisfied: requests<3,>=2.21.0 in /usr/local/lib/python3.10/dist-packages (from tensorflow) (2.32.3)\n",
            "Requirement already satisfied: setuptools in /usr/local/lib/python3.10/dist-packages (from tensorflow) (75.1.0)\n",
            "Requirement already satisfied: six>=1.12.0 in /usr/local/lib/python3.10/dist-packages (from tensorflow) (1.16.0)\n",
            "Requirement already satisfied: termcolor>=1.1.0 in /usr/local/lib/python3.10/dist-packages (from tensorflow) (2.5.0)\n",
            "Requirement already satisfied: typing-extensions>=3.6.6 in /usr/local/lib/python3.10/dist-packages (from tensorflow) (4.12.2)\n",
            "Requirement already satisfied: wrapt>=1.11.0 in /usr/local/lib/python3.10/dist-packages (from tensorflow) (1.17.0)\n",
            "Requirement already satisfied: grpcio<2.0,>=1.24.3 in /usr/local/lib/python3.10/dist-packages (from tensorflow) (1.68.1)\n",
            "Requirement already satisfied: tensorboard<2.18,>=2.17 in /usr/local/lib/python3.10/dist-packages (from tensorflow) (2.17.1)\n",
            "Requirement already satisfied: keras>=3.2.0 in /usr/local/lib/python3.10/dist-packages (from tensorflow) (3.5.0)\n",
            "Requirement already satisfied: tensorflow-io-gcs-filesystem>=0.23.1 in /usr/local/lib/python3.10/dist-packages (from tensorflow) (0.37.1)\n",
            "Requirement already satisfied: numpy<2.0.0,>=1.23.5 in /usr/local/lib/python3.10/dist-packages (from tensorflow) (1.26.4)\n",
            "Requirement already satisfied: wheel<1.0,>=0.23.0 in /usr/local/lib/python3.10/dist-packages (from astunparse>=1.6.0->tensorflow) (0.45.1)\n",
            "Requirement already satisfied: rich in /usr/local/lib/python3.10/dist-packages (from keras>=3.2.0->tensorflow) (13.9.4)\n",
            "Requirement already satisfied: namex in /usr/local/lib/python3.10/dist-packages (from keras>=3.2.0->tensorflow) (0.0.8)\n",
            "Requirement already satisfied: optree in /usr/local/lib/python3.10/dist-packages (from keras>=3.2.0->tensorflow) (0.13.1)\n",
            "Requirement already satisfied: charset-normalizer<4,>=2 in /usr/local/lib/python3.10/dist-packages (from requests<3,>=2.21.0->tensorflow) (3.4.0)\n",
            "Requirement already satisfied: idna<4,>=2.5 in /usr/local/lib/python3.10/dist-packages (from requests<3,>=2.21.0->tensorflow) (3.10)\n",
            "Requirement already satisfied: urllib3<3,>=1.21.1 in /usr/local/lib/python3.10/dist-packages (from requests<3,>=2.21.0->tensorflow) (2.2.3)\n",
            "Requirement already satisfied: certifi>=2017.4.17 in /usr/local/lib/python3.10/dist-packages (from requests<3,>=2.21.0->tensorflow) (2024.8.30)\n",
            "Requirement already satisfied: markdown>=2.6.8 in /usr/local/lib/python3.10/dist-packages (from tensorboard<2.18,>=2.17->tensorflow) (3.7)\n",
            "Requirement already satisfied: tensorboard-data-server<0.8.0,>=0.7.0 in /usr/local/lib/python3.10/dist-packages (from tensorboard<2.18,>=2.17->tensorflow) (0.7.2)\n",
            "Requirement already satisfied: werkzeug>=1.0.1 in /usr/local/lib/python3.10/dist-packages (from tensorboard<2.18,>=2.17->tensorflow) (3.1.3)\n",
            "Requirement already satisfied: MarkupSafe>=2.1.1 in /usr/local/lib/python3.10/dist-packages (from werkzeug>=1.0.1->tensorboard<2.18,>=2.17->tensorflow) (3.0.2)\n",
            "Requirement already satisfied: markdown-it-py>=2.2.0 in /usr/local/lib/python3.10/dist-packages (from rich->keras>=3.2.0->tensorflow) (3.0.0)\n",
            "Requirement already satisfied: pygments<3.0.0,>=2.13.0 in /usr/local/lib/python3.10/dist-packages (from rich->keras>=3.2.0->tensorflow) (2.18.0)\n",
            "Requirement already satisfied: mdurl~=0.1 in /usr/local/lib/python3.10/dist-packages (from markdown-it-py>=2.2.0->rich->keras>=3.2.0->tensorflow) (0.1.2)\n"
          ]
        }
      ]
    },
    {
      "cell_type": "code",
      "source": [
        "import tensorflow as tf\n",
        "print(tf.__version__)\n"
      ],
      "metadata": {
        "colab": {
          "base_uri": "https://localhost:8080/"
        },
        "id": "dw6X8FWR0-60",
        "outputId": "b0aa099a-44d9-42d5-b306-47a1e4b124ec"
      },
      "execution_count": null,
      "outputs": [
        {
          "output_type": "stream",
          "name": "stdout",
          "text": [
            "2.17.1\n"
          ]
        }
      ]
    },
    {
      "cell_type": "code",
      "source": [
        "import tensorflow as tf\n",
        "print(\"Num GPUs Available: \", len(tf.config.list_physical_devices('GPU')))\n"
      ],
      "metadata": {
        "colab": {
          "base_uri": "https://localhost:8080/"
        },
        "id": "nMRoOkrD3VOb",
        "outputId": "04dad3d6-d952-4890-a6de-13f7d1f4d95d"
      },
      "execution_count": null,
      "outputs": [
        {
          "output_type": "stream",
          "name": "stdout",
          "text": [
            "Num GPUs Available:  0\n"
          ]
        }
      ]
    },
    {
      "cell_type": "markdown",
      "source": [
        "# **Import Necessary Libraries**"
      ],
      "metadata": {
        "id": "tJA_PznQi-r_"
      }
    },
    {
      "cell_type": "code",
      "source": [
        "import tensorflow as tf\n",
        "from tensorflow.keras.preprocessing.image import ImageDataGenerator\n",
        "from tensorflow.keras.models import Sequential\n",
        "from tensorflow.keras.layers import Conv2D, MaxPooling2D, Flatten, Dense, Dropout\n",
        "from tensorflow.keras.callbacks import EarlyStopping\n",
        "import matplotlib.pyplot as plt\n",
        "import os\n",
        "import tarfile\n",
        "import shutil\n",
        "import urllib.request\n"
      ],
      "metadata": {
        "id": "bAeIQpDjgYDI"
      },
      "execution_count": null,
      "outputs": []
    },
    {
      "cell_type": "markdown",
      "source": [
        "# **Download and Extract the Dataset**"
      ],
      "metadata": {
        "id": "4NWOdmMfjCsX"
      }
    },
    {
      "cell_type": "code",
      "source": [
        "!wget https://s3.amazonaws.com/fast-ai-imageclas/CUB_200_2011.tgz"
      ],
      "metadata": {
        "id": "wDZ1nbS2ozX5",
        "colab": {
          "base_uri": "https://localhost:8080/"
        },
        "outputId": "cf68b837-06cc-4903-de53-ccacd2958e36"
      },
      "execution_count": null,
      "outputs": [
        {
          "output_type": "stream",
          "name": "stdout",
          "text": [
            "--2024-12-10 23:18:42--  https://s3.amazonaws.com/fast-ai-imageclas/CUB_200_2011.tgz\n",
            "Resolving s3.amazonaws.com (s3.amazonaws.com)... 54.231.172.88, 16.182.106.72, 16.15.193.74, ...\n",
            "Connecting to s3.amazonaws.com (s3.amazonaws.com)|54.231.172.88|:443... connected.\n",
            "HTTP request sent, awaiting response... 200 OK\n",
            "Length: 1150585339 (1.1G) [application/x-tar]\n",
            "Saving to: ‘CUB_200_2011.tgz’\n",
            "\n",
            "CUB_200_2011.tgz    100%[===================>]   1.07G  38.3MB/s    in 28s     \n",
            "\n",
            "2024-12-10 23:19:11 (38.6 MB/s) - ‘CUB_200_2011.tgz’ saved [1150585339/1150585339]\n",
            "\n"
          ]
        }
      ]
    },
    {
      "cell_type": "markdown",
      "source": [
        "# **Define the path to the downloaded file**\n"
      ],
      "metadata": {
        "id": "FVIE-yu4vfA0"
      }
    },
    {
      "cell_type": "code",
      "source": [
        "tgz_path ='/content/CUB_200_2011.tgz'"
      ],
      "metadata": {
        "id": "e-pkE-EuvyiF"
      },
      "execution_count": null,
      "outputs": []
    },
    {
      "cell_type": "markdown",
      "source": [
        "# **Define the path to the directory where you want to extract**"
      ],
      "metadata": {
        "id": "bon7aGTAv_aE"
      }
    },
    {
      "cell_type": "code",
      "source": [
        "extract_path = '/content/'"
      ],
      "metadata": {
        "id": "ehfKsMVewTWr"
      },
      "execution_count": null,
      "outputs": []
    },
    {
      "cell_type": "markdown",
      "source": [],
      "metadata": {
        "id": "kwfs0gsafaEg"
      }
    },
    {
      "cell_type": "markdown",
      "source": [
        "# **extract  the file**\n"
      ],
      "metadata": {
        "id": "G_r5wsMsvUwK"
      }
    },
    {
      "cell_type": "code",
      "source": [
        "with tarfile.open(tgz_path, 'r:gz') as tar:\n",
        "  tar.extractall(path=extract_path)\n"
      ],
      "metadata": {
        "id": "JxunSYNEwhfW"
      },
      "execution_count": null,
      "outputs": []
    },
    {
      "cell_type": "code",
      "source": [
        "#trying this? re-extract dataset\n",
        "\n",
        "!tar -xzf /content/CUB_200_2011.tgz -C /content/\n"
      ],
      "metadata": {
        "id": "ZJmqUiz6h_P0"
      },
      "execution_count": null,
      "outputs": []
    },
    {
      "cell_type": "code",
      "source": [
        "!ls /content/CUB_200_2011\n"
      ],
      "metadata": {
        "colab": {
          "base_uri": "https://localhost:8080/"
        },
        "id": "iO0wjfmwjAr0",
        "outputId": "812b65ab-57bc-49e7-ce3d-988dfc2e2739"
      },
      "execution_count": null,
      "outputs": [
        {
          "output_type": "stream",
          "name": "stdout",
          "text": [
            "attributes\t    classes.txt\t\t    images\tparts\ttrain\t\t      validation\n",
            "bounding_boxes.txt  image_class_labels.txt  images.txt\tREADME\ttrain_test_split.txt\n"
          ]
        }
      ]
    },
    {
      "cell_type": "code",
      "source": [
        "import os\n",
        "\n",
        "images_dir = '/content/CUB_200_2011/images'\n",
        "print(\"Contents of the images directory:\", os.listdir(images_dir)[:10])  # Show first 10 files\n"
      ],
      "metadata": {
        "colab": {
          "base_uri": "https://localhost:8080/"
        },
        "id": "ba1fOgTMlO5G",
        "outputId": "d0949a7e-06e1-4ac2-d773-4e50ce664d66"
      },
      "execution_count": null,
      "outputs": [
        {
          "output_type": "stream",
          "name": "stdout",
          "text": [
            "Contents of the images directory: ['168.Kentucky_Warbler', '004.Groove_billed_Ani', '174.Palm_Warbler', '037.Acadian_Flycatcher', '159.Black_and_white_Warbler', '052.Pied_billed_Grebe', '067.Anna_Hummingbird', '084.Red_legged_Kittiwake', '182.Yellow_Warbler', '075.Green_Jay']\n"
          ]
        }
      ]
    },
    {
      "cell_type": "markdown",
      "source": [
        "# **Organize Dataset into Training and Validation Directories**"
      ],
      "metadata": {
        "id": "8_SJ2_11Pwsl"
      }
    },
    {
      "cell_type": "code",
      "source": [
        "# Define paths\n",
        "base_dir = '/content/CUB_200_2011'\n",
        "images_dir = os.path.join(base_dir, 'images')\n",
        "train_dir = os.path.join(base_dir, 'train')  # Define training directory\n",
        "validation_dir = os.path.join(base_dir, 'validation')  # Define validation directory\n",
        "\n",
        "# Verify directories\n",
        "print(\"Base directory contents:\", os.listdir(base_dir))\n",
        "print(\"Images directory contents:\", os.listdir(images_dir)[:10])  # Show first 10 items\n"
      ],
      "metadata": {
        "colab": {
          "base_uri": "https://localhost:8080/"
        },
        "id": "R4dZ1MQfhO5n",
        "outputId": "5cfc9f1a-53e3-41c0-a791-2e145654575f"
      },
      "execution_count": null,
      "outputs": [
        {
          "output_type": "stream",
          "name": "stdout",
          "text": [
            "Base directory contents: ['parts', 'train', 'classes.txt', 'bounding_boxes.txt', 'images.txt', 'README', 'validation', 'train_test_split.txt', 'images', 'image_class_labels.txt', 'attributes']\n",
            "Images directory contents: ['145.Elegant_Tern', '057.Rose_breasted_Grosbeak', '046.Gadwall', '051.Horned_Grebe', '013.Bobolink', '029.American_Crow', '041.Scissor_tailed_Flycatcher', '072.Pomarine_Jaeger', '183.Northern_Waterthrush', '196.House_Wren']\n"
          ]
        }
      ]
    },
    {
      "cell_type": "code",
      "source": [
        "import os\n",
        "\n",
        "# Path to the images directory\n",
        "images_dir = '/content/CUB_200_2011/images'\n",
        "\n",
        "# Print subdirectories in images directory\n",
        "print(\"Subdirectories in images directory:\")\n",
        "print(os.listdir(images_dir)[:10])  # Show first 10 subdirectories\n",
        "\n",
        "# Recursively list files in one of the subdirectories\n",
        "example_subdir = os.path.join(images_dir, '001.Black_footed_Albatross')\n",
        "print(f\"\\nFiles in {example_subdir}:\")\n",
        "if os.path.exists(example_subdir):\n",
        "    print(os.listdir(example_subdir))\n",
        "else:\n",
        "    print(\"Subdirectory does not exist!\")\n"
      ],
      "metadata": {
        "colab": {
          "base_uri": "https://localhost:8080/"
        },
        "id": "lVvHN2sriUVy",
        "outputId": "016482df-6ac7-457d-b99f-59e35fbd6309"
      },
      "execution_count": null,
      "outputs": [
        {
          "output_type": "stream",
          "name": "stdout",
          "text": [
            "Subdirectories in images directory:\n",
            "['145.Elegant_Tern', '057.Rose_breasted_Grosbeak', '046.Gadwall', '051.Horned_Grebe', '013.Bobolink', '029.American_Crow', '041.Scissor_tailed_Flycatcher', '072.Pomarine_Jaeger', '183.Northern_Waterthrush', '196.House_Wren']\n",
            "\n",
            "Files in /content/CUB_200_2011/images/001.Black_footed_Albatross:\n",
            "['Black_Footed_Albatross_0037_796120.jpg', 'Black_Footed_Albatross_0051_796103.jpg', 'Black_Footed_Albatross_0016_796067.jpg', 'Black_Footed_Albatross_0007_796138.jpg', 'Black_Footed_Albatross_0057_796106.jpg', 'Black_Footed_Albatross_0076_417.jpg', 'Black_Footed_Albatross_0071_796113.jpg', 'Black_Footed_Albatross_0046_18.jpg', 'Black_Footed_Albatross_0067_170.jpg', 'Black_Footed_Albatross_0078_796126.jpg', 'Black_Footed_Albatross_0077_796114.jpg', 'Black_Footed_Albatross_0041_796108.jpg', 'Black_Footed_Albatross_0010_796097.jpg', 'Black_Footed_Albatross_0017_796098.jpg', 'Black_Footed_Albatross_0003_796136.jpg', 'Black_Footed_Albatross_0089_796069.jpg', 'Black_Footed_Albatross_0064_796101.jpg', 'Black_Footed_Albatross_0014_89.jpg', 'Black_Footed_Albatross_0024_796089.jpg', 'Black_Footed_Albatross_0090_796077.jpg', 'Black_Footed_Albatross_0026_796095.jpg', 'Black_Footed_Albatross_0053_796109.jpg', 'Black_Footed_Albatross_0019_796104.jpg', 'Black_Footed_Albatross_0069_796139.jpg', 'Black_Footed_Albatross_0080_796096.jpg', 'Black_Footed_Albatross_0035_796140.jpg', 'Black_Footed_Albatross_0074_59.jpg', 'Black_Footed_Albatross_0002_55.jpg', 'Black_Footed_Albatross_0036_796127.jpg', 'Black_Footed_Albatross_0047_796064.jpg', 'Black_Footed_Albatross_0005_796090.jpg', 'Black_Footed_Albatross_0042_796071.jpg', 'Black_Footed_Albatross_0056_796078.jpg', 'Black_Footed_Albatross_0031_100.jpg', 'Black_Footed_Albatross_0039_796132.jpg', 'Black_Footed_Albatross_0038_212.jpg', 'Black_Footed_Albatross_0085_92.jpg', 'Black_Footed_Albatross_0040_796066.jpg', 'Black_Footed_Albatross_0088_796133.jpg', 'Black_Footed_Albatross_0063_796141.jpg', 'Black_Footed_Albatross_0061_796082.jpg', 'Black_Footed_Albatross_0058_796074.jpg', 'Black_Footed_Albatross_0079_796122.jpg', 'Black_Footed_Albatross_0025_796057.jpg', 'Black_Footed_Albatross_0006_796065.jpg', 'Black_Footed_Albatross_0050_796125.jpg', 'Black_Footed_Albatross_0045_796129.jpg', 'Black_Footed_Albatross_0060_796076.jpg', 'Black_Footed_Albatross_0065_796068.jpg', 'Black_Footed_Albatross_0081_426.jpg', 'Black_Footed_Albatross_0008_796083.jpg', 'Black_Footed_Albatross_0049_796063.jpg', 'Black_Footed_Albatross_0001_796111.jpg', 'Black_Footed_Albatross_0068_796135.jpg', 'Black_Footed_Albatross_0032_796115.jpg', 'Black_Footed_Albatross_0009_34.jpg', 'Black_Footed_Albatross_0023_796059.jpg', 'Black_Footed_Albatross_0082_796121.jpg', 'Black_Footed_Albatross_0086_796062.jpg', 'Black_Footed_Albatross_0033_796086.jpg']\n"
          ]
        }
      ]
    },
    {
      "cell_type": "code",
      "source": [
        "# Define paths\n",
        "\n",
        "base_dir = '/content/CUB_200_2011'\n",
        "\n",
        "images_dir = '/content/CUB_200_2011/images'\n",
        "train_dir = '/content/CUB_200_2011/train'\n",
        "validation_dir = '/content/CUB_200_2011/validation'\n",
        "\n",
        "# Verify directories\n",
        "print(\"Base directory contents:\", os.listdir(base_dir))\n",
        "print(\"Images directory contents:\", os.listdir(images_dir)[:10])  # Show first 10 items\n",
        "\n",
        "# Create directories\n",
        "os.makedirs(train_dir, exist_ok=True)\n",
        "os.makedirs(validation_dir, exist_ok=True)\n",
        "\n",
        "# Read train/test split file\n",
        "with open(os.path.join(base_dir, 'train_test_split.txt')) as f:\n",
        "    lines = f.readlines()\n",
        "\n",
        "#Read image class labels\n",
        "with open(os.path.join(base_dir, 'image_class_labels.txt')) as f:\n",
        "    labels = f.readlines()\n",
        "\n",
        "# Create a dictionary mapping image file to its class label\n",
        "    image_label_dict={}\n",
        "    for line in labels:\n",
        "      parts= line.strip().split()\n",
        "      image_label_dict[parts[0]] = parts[1]\n",
        "\n",
        "# Move images to respective directories\n",
        "for line in lines:\n",
        "  parts = line.strip().split()\n",
        "  image_id = parts[0]\n",
        "  is_train = parts[1] == '1'\n",
        "\n",
        "# Construct the image file path correctly\n",
        "subdir = os.path.join(images_dir, parts[1])  # Replace parts[1] with the correct subdirectory name\n",
        "image_file = os.path.join(subdir, f'{parts[0]}.jpg')  # Replace parts[0] with the image ID\n",
        "\n",
        "\n",
        "# Get the label for the current image\n",
        "label = image_label_dict[image_id]\n",
        "\n",
        "\n",
        "label_dir = os.path.join(train_dir if is_train else validation_dir, label)\n",
        "\n",
        "os.makedirs(label_dir, exist_ok=True)\n",
        "\n",
        "if os.path.exists(image_file):\n",
        "    shutil.move(image_file, label_dir)\n",
        "else:\n",
        "    print(f'Image file not found: {image_file}')\n"
      ],
      "metadata": {
        "colab": {
          "base_uri": "https://localhost:8080/"
        },
        "id": "R8AuuWSGP3xD",
        "outputId": "173b5436-10e7-4578-c33c-f55d4d9467f8"
      },
      "execution_count": null,
      "outputs": [
        {
          "output_type": "stream",
          "name": "stdout",
          "text": [
            "Base directory contents: ['parts', 'train', 'classes.txt', 'bounding_boxes.txt', 'images.txt', 'README', 'validation', 'train_test_split.txt', 'images', 'image_class_labels.txt', 'attributes']\n",
            "Images directory contents: ['145.Elegant_Tern', '057.Rose_breasted_Grosbeak', '046.Gadwall', '051.Horned_Grebe', '013.Bobolink', '029.American_Crow', '041.Scissor_tailed_Flycatcher', '072.Pomarine_Jaeger', '183.Northern_Waterthrush', '196.House_Wren']\n",
            "Image file not found: /content/CUB_200_2011/images/0/11788.jpg\n"
          ]
        }
      ]
    },
    {
      "cell_type": "code",
      "source": [
        "import os\n",
        "\n",
        "# Verify dataset directory\n",
        "base_dir = '/content/CUB_200_2011'\n",
        "images_dir = os.path.join(base_dir, 'images')\n",
        "\n",
        "print(\"Base directory contents:\", os.listdir(base_dir))\n",
        "if os.path.exists(images_dir):\n",
        "    print(\"Images directory contents:\", os.listdir(images_dir)[:10])  # Show first 10 items\n",
        "else:\n",
        "    print(\"Images directory not found!\")\n"
      ],
      "metadata": {
        "colab": {
          "base_uri": "https://localhost:8080/"
        },
        "id": "7JP3yufOd0Pv",
        "outputId": "6dc1a710-a6af-4b3e-8254-29e275db05e6"
      },
      "execution_count": null,
      "outputs": [
        {
          "output_type": "stream",
          "name": "stdout",
          "text": [
            "Base directory contents: ['parts', 'train', 'classes.txt', 'bounding_boxes.txt', 'images.txt', 'README', 'validation', 'train_test_split.txt', 'images', 'image_class_labels.txt', 'attributes']\n",
            "Images directory contents: ['145.Elegant_Tern', '057.Rose_breasted_Grosbeak', '046.Gadwall', '051.Horned_Grebe', '013.Bobolink', '029.American_Crow', '041.Scissor_tailed_Flycatcher', '072.Pomarine_Jaeger', '183.Northern_Waterthrush', '196.House_Wren']\n"
          ]
        }
      ]
    },
    {
      "cell_type": "markdown",
      "source": [
        "Data Preprocessing and Augmentation"
      ],
      "metadata": {
        "id": "b-kb_NKIiYpE"
      }
    },
    {
      "cell_type": "code",
      "source": [
        "# Image data generators with augmentation for training and rescaling for validation\n",
        "train_datagen = ImageDataGenerator(\n",
        "    rescale=1./255,\n",
        "    rotation_range=20,\n",
        "    width_shift_range=0.2,\n",
        "    height_shift_range=0.2,\n",
        "    shear_range=0.2,\n",
        "    zoom_range=0.2,\n",
        "    horizontal_flip=True\n",
        "    )\n",
        "\n",
        "validation_datagen = ImageDataGenerator(rescale=1./255)\n",
        "\n",
        "# Data generators\n",
        "train_generator = train_datagen.flow_from_directory(\n",
        "    train_dir,\n",
        "    target_size=(150, 150),\n",
        "    batch_size=32,\n",
        "    class_mode='categorical'\n",
        ")\n",
        "\n",
        "num_classes = len(train_generator.class_indices)\n",
        "print(f'Number of classes: {num_classes}')\n"
      ],
      "metadata": {
        "id": "Gcav-547i-py",
        "colab": {
          "base_uri": "https://localhost:8080/"
        },
        "outputId": "9e79ba19-365d-45fa-e8d9-3ba338d5246e"
      },
      "execution_count": null,
      "outputs": [
        {
          "output_type": "stream",
          "name": "stdout",
          "text": [
            "Found 0 images belonging to 200 classes.\n",
            "Number of classes: 200\n"
          ]
        }
      ]
    }
  ]
}